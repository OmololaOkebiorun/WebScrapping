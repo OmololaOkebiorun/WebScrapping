{
 "cells": [
  {
   "cell_type": "markdown",
   "id": "e59460bd",
   "metadata": {},
   "source": [
    "# This notebook is aimed at scrapping the websites for the names and year of establishment of higher institutions in Nigeria using Python's Beautiful Soup."
   ]
  },
  {
   "cell_type": "code",
   "execution_count": 1,
   "id": "723ce1b6",
   "metadata": {},
   "outputs": [],
   "source": [
    "#importing the dependancies\n",
    "import requests \n",
    "from bs4 import BeautifulSoup\n",
    "import pandas as pd\n",
    "import numpy as np"
   ]
  },
  {
   "cell_type": "markdown",
   "id": "6dfbad4b",
   "metadata": {},
   "source": [
    "__Federal Universities__"
   ]
  },
  {
   "cell_type": "markdown",
   "id": "403baac6",
   "metadata": {},
   "source": [
    "__Scrapping the names and year of establishment of Federal Government owned universities in Nigeria.__"
   ]
  },
  {
   "cell_type": "markdown",
   "id": "b27887ad",
   "metadata": {},
   "source": [
    "__Web scrapping involves four steps namely:__\n",
    "\n",
    "__a. document load (downloading html contents of the page),__\n",
    "\n",
    "\n",
    "__b. parsing (format the downloaded content into useful format),__\n",
    "\n",
    "__c. extraction (extracting useful information)__\n",
    "\n",
    "__d. transformation (saving the information into a structured format).__"
   ]
  },
  {
   "cell_type": "code",
   "execution_count": 4,
   "id": "d97be950",
   "metadata": {},
   "outputs": [],
   "source": [
    "#document load\n",
    "result = requests.get(\"https://www.nuc.edu.ng/nigerian-univerisities/federal-univeristies/\")"
   ]
  },
  {
   "cell_type": "code",
   "execution_count": null,
   "id": "ae53fc1c",
   "metadata": {},
   "outputs": [],
   "source": [
    "#result.content"
   ]
  },
  {
   "cell_type": "code",
   "execution_count": 8,
   "id": "c3e1b94a",
   "metadata": {},
   "outputs": [],
   "source": [
    "#parsing the content\n",
    "Federal_Universities = BeautifulSoup(result.content, \"html.parser\")"
   ]
  },
  {
   "cell_type": "markdown",
   "id": "fdc8342b",
   "metadata": {},
   "source": [
    "__Extracting the University names__"
   ]
  },
  {
   "cell_type": "code",
   "execution_count": 9,
   "id": "38fe00c7",
   "metadata": {},
   "outputs": [
    {
     "data": {
      "text/plain": [
       "<td class=\"column-2\">Abubakar Tafawa Balewa University, Bauchi</td>"
      ]
     },
     "execution_count": 9,
     "metadata": {},
     "output_type": "execute_result"
    }
   ],
   "source": [
    "#extraction\n",
    "Federal_Universities.find(\"td\", {\"class\":\"column-2\"})"
   ]
  },
  {
   "cell_type": "code",
   "execution_count": 10,
   "id": "73e5dd3e",
   "metadata": {},
   "outputs": [],
   "source": [
    "University_name = Federal_Universities.find_all(\"td\", {\"class\":\"column-2\"})  # finds all the name "
   ]
  },
  {
   "cell_type": "code",
   "execution_count": 11,
   "id": "2998a3d7",
   "metadata": {},
   "outputs": [],
   "source": [
    "#Transformation\n",
    "Name = []\n",
    "for name in University_name:\n",
    "    Name.append(name.text) #extracts the text and appends it to list \"Name\""
   ]
  },
  {
   "cell_type": "markdown",
   "id": "d71d70c9",
   "metadata": {},
   "source": [
    "__Extracting the date of establishment__"
   ]
  },
  {
   "cell_type": "code",
   "execution_count": 13,
   "id": "1f6ca82e",
   "metadata": {},
   "outputs": [],
   "source": [
    "Year_established = Federal_Universities.find_all(\"td\", {\"class\":\"column-5\"})"
   ]
  },
  {
   "cell_type": "code",
   "execution_count": 14,
   "id": "4da78c29",
   "metadata": {},
   "outputs": [],
   "source": [
    "Year_Founded = []\n",
    "for year in Year_established:\n",
    "    Year_Founded.append(year.text)"
   ]
  },
  {
   "cell_type": "markdown",
   "id": "b5274b52",
   "metadata": {},
   "source": [
    "__Transforming the data into a dataframe__"
   ]
  },
  {
   "cell_type": "code",
   "execution_count": 18,
   "id": "43682c4c",
   "metadata": {},
   "outputs": [],
   "source": [
    "Fed_Uni_data = pd.DataFrame({'Name': Name, 'Year of establishment': Year_Founded})"
   ]
  },
  {
   "cell_type": "code",
   "execution_count": 22,
   "id": "5c724937",
   "metadata": {},
   "outputs": [],
   "source": [
    "#adding columns for Ownership and category\n",
    "Fed_Uni_data['Ownership'] = 'Federal Government'\n",
    "Fed_Uni_data['Category'] = 'University'"
   ]
  },
  {
   "cell_type": "code",
   "execution_count": 25,
   "id": "c0458338",
   "metadata": {},
   "outputs": [],
   "source": [
    "Fed_Uni_data = Fed_Uni_data.iloc[0:50, :] "
   ]
  },
  {
   "cell_type": "code",
   "execution_count": 27,
   "id": "9e1c65f7",
   "metadata": {},
   "outputs": [],
   "source": [
    "#Fed_Uni_data"
   ]
  },
  {
   "cell_type": "markdown",
   "id": "c309c934",
   "metadata": {},
   "source": [
    "__State University__"
   ]
  },
  {
   "cell_type": "code",
   "execution_count": 39,
   "id": "7da9d5b5",
   "metadata": {},
   "outputs": [],
   "source": [
    "state_uni = requests.get(\"https://www.nuc.edu.ng/nigerian-univerisities/state-univerisity/\")"
   ]
  },
  {
   "cell_type": "code",
   "execution_count": 40,
   "id": "b3c8157f",
   "metadata": {},
   "outputs": [],
   "source": [
    "state_uni_content = BeautifulSoup(state_uni.content, \"html.parser\")"
   ]
  },
  {
   "cell_type": "code",
   "execution_count": 41,
   "id": "81984533",
   "metadata": {},
   "outputs": [],
   "source": [
    "State_Uni_names = state_uni_content.find_all(\"td\", {\"class\":\"column-2\"})"
   ]
  },
  {
   "cell_type": "code",
   "execution_count": 42,
   "id": "c77b51ab",
   "metadata": {},
   "outputs": [],
   "source": [
    "State_University = []\n",
    "for uni in State_Uni_names:\n",
    "    State_University.append(uni.text)"
   ]
  },
  {
   "cell_type": "code",
   "execution_count": 45,
   "id": "a271b55e",
   "metadata": {},
   "outputs": [
    {
     "data": {
      "text/plain": [
       "60"
      ]
     },
     "execution_count": 45,
     "metadata": {},
     "output_type": "execute_result"
    }
   ],
   "source": [
    "len(State_University)"
   ]
  },
  {
   "cell_type": "code",
   "execution_count": 49,
   "id": "9809553b",
   "metadata": {},
   "outputs": [],
   "source": [
    "State_Year_Founded = state_uni_content.find_all(\"td\", {\"class\":\"column-5\"})"
   ]
  },
  {
   "cell_type": "code",
   "execution_count": 50,
   "id": "3d852c25",
   "metadata": {},
   "outputs": [],
   "source": [
    "State_University_Date = []\n",
    "for date in State_Year_Founded:\n",
    "    State_University_Date.append(date.text)"
   ]
  },
  {
   "cell_type": "code",
   "execution_count": 51,
   "id": "7aa1e381",
   "metadata": {},
   "outputs": [
    {
     "data": {
      "text/plain": [
       "60"
      ]
     },
     "execution_count": 51,
     "metadata": {},
     "output_type": "execute_result"
    }
   ],
   "source": [
    "len(State_University_Date)"
   ]
  },
  {
   "cell_type": "code",
   "execution_count": 52,
   "id": "7eab4b04",
   "metadata": {},
   "outputs": [],
   "source": [
    "State_Uni_data = pd.DataFrame({'Name': State_University, 'Year of establishment': State_University_Date})\n",
    "State_Uni_data['Ownership'] = 'State Government'\n",
    "State_Uni_data['Category'] = 'University'"
   ]
  },
  {
   "cell_type": "code",
   "execution_count": 54,
   "id": "92fad694",
   "metadata": {},
   "outputs": [],
   "source": [
    "#State_Uni_data"
   ]
  },
  {
   "cell_type": "markdown",
   "id": "bff67e9e",
   "metadata": {},
   "source": [
    "__Private-owned University__"
   ]
  },
  {
   "cell_type": "code",
   "execution_count": 28,
   "id": "0acbd4f5",
   "metadata": {},
   "outputs": [],
   "source": [
    "pri_uni = requests.get(\"https://www.nuc.edu.ng/nigerian-univerisities/private-univeristies/\")"
   ]
  },
  {
   "cell_type": "code",
   "execution_count": 29,
   "id": "74ac7ed8",
   "metadata": {},
   "outputs": [],
   "source": [
    "pri_uni_content = BeautifulSoup(pri_uni.content, \"html.parser\")"
   ]
  },
  {
   "cell_type": "code",
   "execution_count": 30,
   "id": "673b1221",
   "metadata": {},
   "outputs": [],
   "source": [
    "Pri_Uni = pri_uni_content.find_all(\"td\", {\"class\":\"column-2\"})"
   ]
  },
  {
   "cell_type": "code",
   "execution_count": 31,
   "id": "aa2f9660",
   "metadata": {},
   "outputs": [],
   "source": [
    "Private_University = []\n",
    "for name in Pri_Uni:\n",
    "    Private_University.append(name.text)"
   ]
  },
  {
   "cell_type": "code",
   "execution_count": 32,
   "id": "134bf4d0",
   "metadata": {},
   "outputs": [
    {
     "data": {
      "text/plain": [
       "111"
      ]
     },
     "execution_count": 32,
     "metadata": {},
     "output_type": "execute_result"
    }
   ],
   "source": [
    "#checking the length of the list\n",
    "len(Private_University)"
   ]
  },
  {
   "cell_type": "code",
   "execution_count": 33,
   "id": "070ce673",
   "metadata": {},
   "outputs": [],
   "source": [
    "Date_founded = pri_uni_content.find_all(\"td\", {\"class\":\"column-5\"})"
   ]
  },
  {
   "cell_type": "code",
   "execution_count": 34,
   "id": "32aef01a",
   "metadata": {},
   "outputs": [],
   "source": [
    "Private_University_Date = []\n",
    "for date in Date_founded:\n",
    "    Private_University_Date.append(date.text)"
   ]
  },
  {
   "cell_type": "code",
   "execution_count": 35,
   "id": "783222d8",
   "metadata": {},
   "outputs": [
    {
     "data": {
      "text/plain": [
       "111"
      ]
     },
     "execution_count": 35,
     "metadata": {},
     "output_type": "execute_result"
    }
   ],
   "source": [
    "len(Private_University_Date)"
   ]
  },
  {
   "cell_type": "code",
   "execution_count": 36,
   "id": "29c9472a",
   "metadata": {},
   "outputs": [],
   "source": [
    "Pri_Uni_data = pd.DataFrame({'Name': Private_University, 'Year of establishment': Private_University_Date})\n",
    "Pri_Uni_data['Ownership'] = 'Private'\n",
    "Pri_Uni_data['Category'] = 'University'"
   ]
  },
  {
   "cell_type": "code",
   "execution_count": 38,
   "id": "6280139e",
   "metadata": {},
   "outputs": [],
   "source": [
    "#Pri_Uni_data"
   ]
  },
  {
   "cell_type": "markdown",
   "id": "53fb47e8",
   "metadata": {},
   "source": [
    "__Federal Polytechnic__"
   ]
  },
  {
   "cell_type": "code",
   "execution_count": 55,
   "id": "81f6602b",
   "metadata": {},
   "outputs": [],
   "source": [
    "federal_poly = requests.get(\"https://net.nbte.gov.ng/Federal%20Polytechnics\")"
   ]
  },
  {
   "cell_type": "code",
   "execution_count": 56,
   "id": "b0356de6",
   "metadata": {},
   "outputs": [],
   "source": [
    "federal_poly_content = BeautifulSoup(federal_poly.content, \"lxml\")"
   ]
  },
  {
   "cell_type": "code",
   "execution_count": null,
   "id": "28da3a2f",
   "metadata": {},
   "outputs": [],
   "source": [
    "#This extraction technique is different from the one used above because the needed information is in a table."
   ]
  },
  {
   "cell_type": "code",
   "execution_count": 57,
   "id": "0e3d2cdc",
   "metadata": {},
   "outputs": [],
   "source": [
    "fed_poly_table = federal_poly_content.find('table', {'class' : \"MsoTableColorfulGridAccent3\"})"
   ]
  },
  {
   "cell_type": "code",
   "execution_count": 58,
   "id": "d14771c5",
   "metadata": {},
   "outputs": [],
   "source": [
    "header = []\n",
    "rows = []\n",
    "for i, row in enumerate(fed_poly_table.find_all('tr')):\n",
    "    if i == 0:\n",
    "        header = [el.text.strip() for el in row.find_all('th')]\n",
    "    else:\n",
    "        rows.append([el.text.strip() for el in row.find_all('td')])"
   ]
  },
  {
   "cell_type": "code",
   "execution_count": 59,
   "id": "74403139",
   "metadata": {},
   "outputs": [
    {
     "data": {
      "text/plain": [
       "40"
      ]
     },
     "execution_count": 59,
     "metadata": {},
     "output_type": "execute_result"
    }
   ],
   "source": [
    "len(rows)"
   ]
  },
  {
   "cell_type": "code",
   "execution_count": 60,
   "id": "509dec84",
   "metadata": {},
   "outputs": [],
   "source": [
    "#defining a function that returns a dataframe of the institutions' name, year, ownership and category\n",
    "def name_date_list(rows,  ownership, category):\n",
    "    name = []\n",
    "    for i in rows:\n",
    "        name.append(i[1]) #name is the second item in the list (index 1)\n",
    "   \n",
    "    year = []\n",
    "    for i in rows:\n",
    "        year.append(i[2]) #year is the third item in the list (index 2)\n",
    "    \n",
    "    a = {'Name': name, 'Year of establishment': year, 'Ownership': ownership,'Category' : category}\n",
    "    return  pd.DataFrame(a)"
   ]
  },
  {
   "cell_type": "code",
   "execution_count": 61,
   "id": "3987f801",
   "metadata": {},
   "outputs": [],
   "source": [
    "Fed_Poly_data = name_date_list(rows, 'Federal Government','Polytechnic')"
   ]
  },
  {
   "cell_type": "code",
   "execution_count": 63,
   "id": "1597ee91",
   "metadata": {},
   "outputs": [],
   "source": [
    "#Fed_Poly_data"
   ]
  },
  {
   "cell_type": "markdown",
   "id": "808d4002",
   "metadata": {},
   "source": [
    "__State Polytechnics__"
   ]
  },
  {
   "cell_type": "code",
   "execution_count": 64,
   "id": "689bcd89",
   "metadata": {},
   "outputs": [],
   "source": [
    "state_poly = requests.get(\"https://net.nbte.gov.ng/state%20polytechnics\")"
   ]
  },
  {
   "cell_type": "code",
   "execution_count": 65,
   "id": "6b5b5a15",
   "metadata": {},
   "outputs": [],
   "source": [
    "state_poly_content = BeautifulSoup(state_poly.content, \"lxml\")"
   ]
  },
  {
   "cell_type": "code",
   "execution_count": 66,
   "id": "cbd67493",
   "metadata": {},
   "outputs": [],
   "source": [
    "state_poly_table = state_poly_content.find('table', {'class' : \"MsoTableColorfulGridAccent3\"})"
   ]
  },
  {
   "cell_type": "code",
   "execution_count": 67,
   "id": "23e5af2e",
   "metadata": {},
   "outputs": [],
   "source": [
    "header = []\n",
    "statepoly = []\n",
    "for i, row in enumerate(state_poly_table.find_all('tr')):\n",
    "    if i == 0:\n",
    "        header = [el.text.strip() for el in row.find_all('th')]\n",
    "    else:\n",
    "        statepoly.append([el.text.strip() for el in row.find_all('td')])"
   ]
  },
  {
   "cell_type": "code",
   "execution_count": 69,
   "id": "81ddfd6c",
   "metadata": {},
   "outputs": [],
   "source": [
    "State_Poly_data = name_date_list(statepoly, 'State Government', 'Polytechnic')"
   ]
  },
  {
   "cell_type": "code",
   "execution_count": 71,
   "id": "ed853e5b",
   "metadata": {},
   "outputs": [],
   "source": [
    "#removing '\\n' from the names\n",
    "State_Poly_data['Name'] = [i.replace('\\n', '') for i in State_Poly_data['Name']]"
   ]
  },
  {
   "cell_type": "code",
   "execution_count": 72,
   "id": "efa87b0e",
   "metadata": {},
   "outputs": [],
   "source": [
    "#filling some missing data\n",
    "State_Poly_data['Year of establishment'][26] = 2013\n",
    "State_Poly_data['Year of establishment'][2] = 1988\n",
    "State_Poly_data['Year of establishment'][24] = 2007"
   ]
  },
  {
   "cell_type": "code",
   "execution_count": 74,
   "id": "27c2862d",
   "metadata": {},
   "outputs": [],
   "source": [
    "#State_Poly_data"
   ]
  }
 ],
 "metadata": {
  "kernelspec": {
   "display_name": "Python 3 (ipykernel)",
   "language": "python",
   "name": "python3"
  },
  "language_info": {
   "codemirror_mode": {
    "name": "ipython",
    "version": 3
   },
   "file_extension": ".py",
   "mimetype": "text/x-python",
   "name": "python",
   "nbconvert_exporter": "python",
   "pygments_lexer": "ipython3",
   "version": "3.11.1"
  }
 },
 "nbformat": 4,
 "nbformat_minor": 5
}
